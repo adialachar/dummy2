{
 "cells": [
  {
   "cell_type": "markdown",
   "metadata": {},
   "source": [
    "# Exploratory Data Analysis\n",
    "### KirbyDownB\n",
    "During this phase, we'll be performing EDA on the data we've collected. As of now, we have restaurant data from Yelp, along with income data based on zip code, which we scraped."
   ]
  },
  {
   "cell_type": "markdown",
   "metadata": {},
   "source": [
    "## Install Packages"
   ]
  },
  {
   "cell_type": "code",
   "execution_count": 1,
   "metadata": {},
   "outputs": [
    {
     "name": "stdout",
     "output_type": "stream",
     "text": [
      "Requirement already satisfied: pymongo in /Users/ericong18/Library/Python/3.7/lib/python/site-packages (3.9.0)\n",
      "Requirement already satisfied: nltk in /usr/local/lib/python3.7/site-packages (3.4.5)\n",
      "Requirement already satisfied: wordcloud in /usr/local/lib/python3.7/site-packages (1.6.0)\n",
      "Requirement already satisfied: textblob in /usr/local/lib/python3.7/site-packages (0.15.3)\n",
      "Requirement already satisfied: numpy in /Users/ericong18/Library/Python/3.7/lib/python/site-packages (1.16.2)\n",
      "Requirement already satisfied: six in /usr/local/lib/python3.7/site-packages (from nltk) (1.12.0)\n",
      "Requirement already satisfied: matplotlib in /Users/ericong18/Library/Python/3.7/lib/python/site-packages (from wordcloud) (3.0.3)\n",
      "Requirement already satisfied: pillow in /usr/local/lib/python3.7/site-packages (from wordcloud) (7.0.0)\n",
      "Requirement already satisfied: kiwisolver>=1.0.1 in /Users/ericong18/Library/Python/3.7/lib/python/site-packages (from matplotlib->wordcloud) (1.0.1)\n",
      "Requirement already satisfied: pyparsing!=2.0.4,!=2.1.2,!=2.1.6,>=2.0.1 in /Users/ericong18/Library/Python/3.7/lib/python/site-packages (from matplotlib->wordcloud) (2.4.0)\n",
      "Requirement already satisfied: python-dateutil>=2.1 in /usr/local/lib/python3.7/site-packages (from matplotlib->wordcloud) (2.8.0)\n",
      "Requirement already satisfied: cycler>=0.10 in /Users/ericong18/Library/Python/3.7/lib/python/site-packages (from matplotlib->wordcloud) (0.10.0)\n",
      "Requirement already satisfied: setuptools in /usr/local/lib/python3.7/site-packages (from kiwisolver>=1.0.1->matplotlib->wordcloud) (40.8.0)\n"
     ]
    }
   ],
   "source": [
    "!pip3 install pymongo nltk wordcloud textblob numpy"
   ]
  },
  {
   "cell_type": "markdown",
   "metadata": {},
   "source": [
    "## Import Packages"
   ]
  },
  {
   "cell_type": "code",
   "execution_count": 6,
   "metadata": {},
   "outputs": [
    {
     "name": "stderr",
     "output_type": "stream",
     "text": [
      "[nltk_data] Downloading package punkt to /Users/ericong18/nltk_data...\n",
      "[nltk_data]   Package punkt is already up-to-date!\n",
      "[nltk_data] Downloading package stopwords to\n",
      "[nltk_data]     /Users/ericong18/nltk_data...\n",
      "[nltk_data]   Package stopwords is already up-to-date!\n"
     ]
    },
    {
     "data": {
      "text/plain": [
       "True"
      ]
     },
     "execution_count": 6,
     "metadata": {},
     "output_type": "execute_result"
    }
   ],
   "source": [
    "from pymongo import MongoClient\n",
    "from scripts.constants import mongodb_atlas_connection\n",
    "from scripts.helpers import isZipCodeValid\n",
    "from nltk import word_tokenize, sent_tokenize\n",
    "from nltk.corpus import stopwords\n",
    "from nltk.stem import LancasterStemmer, WordNetLemmatizer, PorterStemmer\n",
    "from wordcloud import WordCloud, STOPWORDS\n",
    "from textblob import TextBlob\n",
    "\n",
    "import nltk\n",
    "import pandas as pd\n",
    "import numpy as np\n",
    "import re\n",
    "\n",
    "nltk.download('punkt')\n",
    "nltk.download(\"stopwords\")"
   ]
  },
  {
   "cell_type": "markdown",
   "metadata": {},
   "source": [
    "## Fetch Data"
   ]
  },
  {
   "cell_type": "markdown",
   "metadata": {},
   "source": [
    "All of our data is stored in a MongoDB Atlas cluster, so we need to connect to the cluster first and retrieve the necessary data."
   ]
  },
  {
   "cell_type": "code",
   "execution_count": 8,
   "metadata": {},
   "outputs": [],
   "source": [
    "client = MongoClient(mongodb_atlas_connection)\n",
    "\n",
    "yelp_db = client['yelp']\n",
    "income_db = client['income']\n",
    "\n",
    "restaurants_collection = yelp_db['restaurants_new']\n",
    "reviews_collection = yelp_db['reviews']\n",
    "zip_code_collection = income_db['zipcode']\n",
    "\n",
    "zip_codes = list(zip_code_collection.find())\n",
    "zip_restaurants = list(restaurants_collection.find())\n",
    "reviews = list(reviews_collection.find())\n",
    "\n",
    "client.close()"
   ]
  },
  {
   "cell_type": "markdown",
   "metadata": {},
   "source": [
    "## Data Cleaning/Massaging"
   ]
  },
  {
   "cell_type": "markdown",
   "metadata": {},
   "source": [
    "The zip codes we scraped are obviously not 100% clean and perfect. Thus, we need to filter out the zip codes that are usable, thanks to a helper function we wrote."
   ]
  },
  {
   "cell_type": "code",
   "execution_count": 9,
   "metadata": {},
   "outputs": [],
   "source": [
    "zip_codes = list(filter(lambda x: isZipCodeValid(x['zip']), zip_codes))"
   ]
  },
  {
   "cell_type": "markdown",
   "metadata": {},
   "source": [
    "The Yelp Fusion API was able to give us 3 review excerpts per restaurant. Using these reviews, we'd like to extract their sentiment score, which we'll use for EDA below and our ML portion."
   ]
  },
  {
   "cell_type": "code",
   "execution_count": 11,
   "metadata": {},
   "outputs": [],
   "source": [
    "stop_words = stopwords.words('english')\n",
    "rest_review = {}\n",
    "\n",
    "for review in reviews:\n",
    "    polarity = 0\n",
    "    subjectivity = 0\n",
    "    review_count = 0\n",
    "    rid = review['rid']\n",
    "    rName = review['name']    \n",
    "    \n",
    "    for i in review['reviews']:\n",
    "        pre_process = i['text'].lower()\n",
    "        pre_process = re.sub('[^a-z0-9]+', ' ', pre_process)\n",
    "        pre_process = word_tokenize(pre_process)\n",
    "        pre_process = [w for w in pre_process if not w in stop_words] \n",
    "        temp = list(TextBlob(' '.join(pre_process)).sentiment)\n",
    "        polarity += temp[0]\n",
    "        subjectivity += temp[0]\n",
    "        review_count += 1\n",
    "    \n",
    "    polarity = polarity/review_count \n",
    "    subjectivity = subjectivity/review_count\n",
    "    rest_review[rid] = [polarity, subjectivity]"
   ]
  },
  {
   "cell_type": "markdown",
   "metadata": {},
   "source": [
    "To help with constructing a DataFrame, we need to create 2 mappings: restaurant ID to it's corresponding zip code and restaurant ID to it's rating on Yelp."
   ]
  },
  {
   "cell_type": "code",
   "execution_count": 15,
   "metadata": {},
   "outputs": [],
   "source": [
    "rest_zip_code = {}\n",
    "rest_ratings = {}\n",
    "\n",
    "for zip_restaurant in zip_restaurants:\n",
    "    restaurants = zip_restaurant['restaurants']\n",
    "    zip_code = zip_restaurant['zipcode']\n",
    "    \n",
    "    for restaurant in restaurants:\n",
    "        rid = restaurant['id']\n",
    "        rating = restaurant['rating']\n",
    "        rest_zip_code[rid] = zip_code\n",
    "        rest_ratings[rid] = rating"
   ]
  },
  {
   "cell_type": "markdown",
   "metadata": {},
   "source": [
    "Another mapping we need to create is zip code to the income for that zip code."
   ]
  },
  {
   "cell_type": "code",
   "execution_count": 16,
   "metadata": {},
   "outputs": [],
   "source": [
    "zip_income = {}\n",
    "\n",
    "for obj in zip_codes:\n",
    "    zip_code = obj['zip']\n",
    "    income = obj['income']\n",
    "    zip_income[zip_code] = income"
   ]
  },
  {
   "cell_type": "markdown",
   "metadata": {},
   "source": [
    "Finally, we can prepare the data we massaged to be inserted into a data frame, thanks to the necessary mappings we created."
   ]
  },
  {
   "cell_type": "code",
   "execution_count": 17,
   "metadata": {},
   "outputs": [],
   "source": [
    "labels = ['id', 'restaurant_id', 'restaurant_name', 'zip_code', 'avg_sentiment_polarity', 'avg_sentiment_subjectivity', 'zip_code_income', 'restaurant_rating']\n",
    "\n",
    "data = []\n",
    "for index, obj in enumerate(reviews):\n",
    "    restaurant_id = obj['rid']\n",
    "    restaurant_name = obj['name']\n",
    "    \n",
    "    if restaurant_id not in rest_zip_code:\n",
    "        continue\n",
    "    zip_code = rest_zip_code[restaurant_id]\n",
    "    \n",
    "    sentiment_polarity = np.nan\n",
    "    sentiment_subjectivity = np.nan\n",
    "    \n",
    "    if restaurant_id in rest_review:\n",
    "        sentiment = rest_review[restaurant_id]\n",
    "        sentiment_polarity = sentiment[0]\n",
    "        sentiment_subjectivity = sentiment[1]\n",
    "    \n",
    "    zip_code_income = zip_income[zip_code]\n",
    "    restaurant_rating = rest_ratings[restaurant_id]\n",
    "    \n",
    "    value = [index, restaurant_id, restaurant_name, zip_code, sentiment_polarity, sentiment_subjectivity, zip_code_income, restaurant_rating]\n",
    "    data.append(value)"
   ]
  },
  {
   "cell_type": "markdown",
   "metadata": {},
   "source": [
    "Now, let's look at what our data frame looks like"
   ]
  },
  {
   "cell_type": "code",
   "execution_count": 18,
   "metadata": {
    "scrolled": true
   },
   "outputs": [
    {
     "data": {
      "text/html": [
       "<div>\n",
       "<style scoped>\n",
       "    .dataframe tbody tr th:only-of-type {\n",
       "        vertical-align: middle;\n",
       "    }\n",
       "\n",
       "    .dataframe tbody tr th {\n",
       "        vertical-align: top;\n",
       "    }\n",
       "\n",
       "    .dataframe thead th {\n",
       "        text-align: right;\n",
       "    }\n",
       "</style>\n",
       "<table border=\"1\" class=\"dataframe\">\n",
       "  <thead>\n",
       "    <tr style=\"text-align: right;\">\n",
       "      <th></th>\n",
       "      <th>restaurant_id</th>\n",
       "      <th>restaurant_name</th>\n",
       "      <th>zip_code</th>\n",
       "      <th>avg_sentiment_polarity</th>\n",
       "      <th>avg_sentiment_subjectivity</th>\n",
       "      <th>zip_code_income</th>\n",
       "      <th>restaurant_rating</th>\n",
       "    </tr>\n",
       "    <tr>\n",
       "      <th>id</th>\n",
       "      <th></th>\n",
       "      <th></th>\n",
       "      <th></th>\n",
       "      <th></th>\n",
       "      <th></th>\n",
       "      <th></th>\n",
       "      <th></th>\n",
       "    </tr>\n",
       "  </thead>\n",
       "  <tbody>\n",
       "    <tr>\n",
       "      <th>0</th>\n",
       "      <td>vjGFXOzI1TCLYnnYYjxiXg</td>\n",
       "      <td>Market Restaurant + Bar</td>\n",
       "      <td>92007</td>\n",
       "      <td>0.038889</td>\n",
       "      <td>0.038889</td>\n",
       "      <td>$62,877.00</td>\n",
       "      <td>4.5</td>\n",
       "    </tr>\n",
       "    <tr>\n",
       "      <th>1</th>\n",
       "      <td>gxwEOjyhbMYCBSQ7tB7aNw</td>\n",
       "      <td>Snooze, An A.M. Eatery</td>\n",
       "      <td>92075</td>\n",
       "      <td>0.341270</td>\n",
       "      <td>0.341270</td>\n",
       "      <td>$69,057.00</td>\n",
       "      <td>4.0</td>\n",
       "    </tr>\n",
       "    <tr>\n",
       "      <th>2</th>\n",
       "      <td>ULJp8Bc_7iLHNz6Xzi2eRw</td>\n",
       "      <td>Thyme In The Ranch</td>\n",
       "      <td>92091</td>\n",
       "      <td>0.484821</td>\n",
       "      <td>0.484821</td>\n",
       "      <td>$103,904.00</td>\n",
       "      <td>4.0</td>\n",
       "    </tr>\n",
       "    <tr>\n",
       "      <th>3</th>\n",
       "      <td>3yQtkLcDAqMVX5oNYHyJhA</td>\n",
       "      <td>Claire's On Cedros</td>\n",
       "      <td>92007</td>\n",
       "      <td>0.311806</td>\n",
       "      <td>0.311806</td>\n",
       "      <td>$62,877.00</td>\n",
       "      <td>4.0</td>\n",
       "    </tr>\n",
       "    <tr>\n",
       "      <th>4</th>\n",
       "      <td>Sc3Mpf7ei8CS8PW7HD2k6w</td>\n",
       "      <td>Mille Fleurs</td>\n",
       "      <td>92091</td>\n",
       "      <td>0.322159</td>\n",
       "      <td>0.322159</td>\n",
       "      <td>$103,904.00</td>\n",
       "      <td>4.0</td>\n",
       "    </tr>\n",
       "  </tbody>\n",
       "</table>\n",
       "</div>"
      ],
      "text/plain": [
       "             restaurant_id          restaurant_name zip_code  \\\n",
       "id                                                             \n",
       "0   vjGFXOzI1TCLYnnYYjxiXg  Market Restaurant + Bar    92007   \n",
       "1   gxwEOjyhbMYCBSQ7tB7aNw   Snooze, An A.M. Eatery    92075   \n",
       "2   ULJp8Bc_7iLHNz6Xzi2eRw       Thyme In The Ranch    92091   \n",
       "3   3yQtkLcDAqMVX5oNYHyJhA       Claire's On Cedros    92007   \n",
       "4   Sc3Mpf7ei8CS8PW7HD2k6w             Mille Fleurs    92091   \n",
       "\n",
       "    avg_sentiment_polarity  avg_sentiment_subjectivity zip_code_income  \\\n",
       "id                                                                       \n",
       "0                 0.038889                    0.038889      $62,877.00   \n",
       "1                 0.341270                    0.341270      $69,057.00   \n",
       "2                 0.484821                    0.484821     $103,904.00   \n",
       "3                 0.311806                    0.311806      $62,877.00   \n",
       "4                 0.322159                    0.322159     $103,904.00   \n",
       "\n",
       "    restaurant_rating  \n",
       "id                     \n",
       "0                 4.5  \n",
       "1                 4.0  \n",
       "2                 4.0  \n",
       "3                 4.0  \n",
       "4                 4.0  "
      ]
     },
     "execution_count": 18,
     "metadata": {},
     "output_type": "execute_result"
    }
   ],
   "source": [
    "df = pd.DataFrame(data, columns=labels)\n",
    "df.set_index('id', inplace=True)\n",
    "df.head()"
   ]
  },
  {
   "cell_type": "markdown",
   "metadata": {},
   "source": [
    "The 'zip_code_income' column isn't properly formatted as a float type, so let's go ahead and fix that."
   ]
  },
  {
   "cell_type": "code",
   "execution_count": 19,
   "metadata": {},
   "outputs": [
    {
     "data": {
      "text/html": [
       "<div>\n",
       "<style scoped>\n",
       "    .dataframe tbody tr th:only-of-type {\n",
       "        vertical-align: middle;\n",
       "    }\n",
       "\n",
       "    .dataframe tbody tr th {\n",
       "        vertical-align: top;\n",
       "    }\n",
       "\n",
       "    .dataframe thead th {\n",
       "        text-align: right;\n",
       "    }\n",
       "</style>\n",
       "<table border=\"1\" class=\"dataframe\">\n",
       "  <thead>\n",
       "    <tr style=\"text-align: right;\">\n",
       "      <th></th>\n",
       "      <th>restaurant_id</th>\n",
       "      <th>restaurant_name</th>\n",
       "      <th>zip_code</th>\n",
       "      <th>avg_sentiment_polarity</th>\n",
       "      <th>avg_sentiment_subjectivity</th>\n",
       "      <th>zip_code_income</th>\n",
       "      <th>restaurant_rating</th>\n",
       "    </tr>\n",
       "    <tr>\n",
       "      <th>id</th>\n",
       "      <th></th>\n",
       "      <th></th>\n",
       "      <th></th>\n",
       "      <th></th>\n",
       "      <th></th>\n",
       "      <th></th>\n",
       "      <th></th>\n",
       "    </tr>\n",
       "  </thead>\n",
       "  <tbody>\n",
       "    <tr>\n",
       "      <th>0</th>\n",
       "      <td>vjGFXOzI1TCLYnnYYjxiXg</td>\n",
       "      <td>Market Restaurant + Bar</td>\n",
       "      <td>92007</td>\n",
       "      <td>0.038889</td>\n",
       "      <td>0.038889</td>\n",
       "      <td>62877.0</td>\n",
       "      <td>4.5</td>\n",
       "    </tr>\n",
       "    <tr>\n",
       "      <th>1</th>\n",
       "      <td>gxwEOjyhbMYCBSQ7tB7aNw</td>\n",
       "      <td>Snooze, An A.M. Eatery</td>\n",
       "      <td>92075</td>\n",
       "      <td>0.341270</td>\n",
       "      <td>0.341270</td>\n",
       "      <td>69057.0</td>\n",
       "      <td>4.0</td>\n",
       "    </tr>\n",
       "    <tr>\n",
       "      <th>2</th>\n",
       "      <td>ULJp8Bc_7iLHNz6Xzi2eRw</td>\n",
       "      <td>Thyme In The Ranch</td>\n",
       "      <td>92091</td>\n",
       "      <td>0.484821</td>\n",
       "      <td>0.484821</td>\n",
       "      <td>103904.0</td>\n",
       "      <td>4.0</td>\n",
       "    </tr>\n",
       "    <tr>\n",
       "      <th>3</th>\n",
       "      <td>3yQtkLcDAqMVX5oNYHyJhA</td>\n",
       "      <td>Claire's On Cedros</td>\n",
       "      <td>92007</td>\n",
       "      <td>0.311806</td>\n",
       "      <td>0.311806</td>\n",
       "      <td>62877.0</td>\n",
       "      <td>4.0</td>\n",
       "    </tr>\n",
       "    <tr>\n",
       "      <th>4</th>\n",
       "      <td>Sc3Mpf7ei8CS8PW7HD2k6w</td>\n",
       "      <td>Mille Fleurs</td>\n",
       "      <td>92091</td>\n",
       "      <td>0.322159</td>\n",
       "      <td>0.322159</td>\n",
       "      <td>103904.0</td>\n",
       "      <td>4.0</td>\n",
       "    </tr>\n",
       "  </tbody>\n",
       "</table>\n",
       "</div>"
      ],
      "text/plain": [
       "             restaurant_id          restaurant_name zip_code  \\\n",
       "id                                                             \n",
       "0   vjGFXOzI1TCLYnnYYjxiXg  Market Restaurant + Bar    92007   \n",
       "1   gxwEOjyhbMYCBSQ7tB7aNw   Snooze, An A.M. Eatery    92075   \n",
       "2   ULJp8Bc_7iLHNz6Xzi2eRw       Thyme In The Ranch    92091   \n",
       "3   3yQtkLcDAqMVX5oNYHyJhA       Claire's On Cedros    92007   \n",
       "4   Sc3Mpf7ei8CS8PW7HD2k6w             Mille Fleurs    92091   \n",
       "\n",
       "    avg_sentiment_polarity  avg_sentiment_subjectivity  zip_code_income  \\\n",
       "id                                                                        \n",
       "0                 0.038889                    0.038889          62877.0   \n",
       "1                 0.341270                    0.341270          69057.0   \n",
       "2                 0.484821                    0.484821         103904.0   \n",
       "3                 0.311806                    0.311806          62877.0   \n",
       "4                 0.322159                    0.322159         103904.0   \n",
       "\n",
       "    restaurant_rating  \n",
       "id                     \n",
       "0                 4.5  \n",
       "1                 4.0  \n",
       "2                 4.0  \n",
       "3                 4.0  \n",
       "4                 4.0  "
      ]
     },
     "execution_count": 19,
     "metadata": {},
     "output_type": "execute_result"
    }
   ],
   "source": [
    "df['zip_code_income'] = df['zip_code_income'].str.replace(',','').str.replace('$','').astype('float')\n",
    "df.head()"
   ]
  },
  {
   "cell_type": "code",
   "execution_count": 21,
   "metadata": {},
   "outputs": [
    {
     "data": {
      "text/plain": [
       "zip_code\n",
       "90002    4.428571\n",
       "90003    4.555556\n",
       "90004    4.500000\n",
       "90005    4.303571\n",
       "90008    4.375000\n",
       "90011    4.055556\n",
       "90016    4.250000\n",
       "90018    4.500000\n",
       "90022    4.666667\n",
       "90023    4.500000\n",
       "90024    4.000000\n",
       "90025    4.000000\n",
       "90026    4.000000\n",
       "90027    3.500000\n",
       "90028    4.272727\n",
       "90029    4.312500\n",
       "90031    4.375000\n",
       "90032    4.600000\n",
       "90033    4.136364\n",
       "90034    4.166667\n",
       "90035    4.125000\n",
       "90038    4.000000\n",
       "90044    4.412500\n",
       "90045    4.000000\n",
       "90046    4.166667\n",
       "90047    4.500000\n",
       "90059    4.300000\n",
       "90061    4.500000\n",
       "90062    4.200000\n",
       "90063    4.250000\n",
       "           ...   \n",
       "96054    4.380000\n",
       "96058    4.035714\n",
       "96059    3.666667\n",
       "96063    4.333333\n",
       "96071    3.884615\n",
       "96074    4.400000\n",
       "96075    3.964286\n",
       "96076    4.323529\n",
       "96086    4.000000\n",
       "96090    4.266667\n",
       "96091    4.333333\n",
       "96092    4.250000\n",
       "96093    4.500000\n",
       "96094    4.250000\n",
       "96105    4.500000\n",
       "96106    4.333333\n",
       "96107    4.312500\n",
       "96109    3.750000\n",
       "96115    4.666667\n",
       "96118    4.500000\n",
       "96123    4.400000\n",
       "96125    3.750000\n",
       "96133    4.166667\n",
       "96134    4.500000\n",
       "96136    4.357143\n",
       "96141    3.750000\n",
       "96142    4.500000\n",
       "96145    4.000000\n",
       "96146    3.750000\n",
       "96150    4.400000\n",
       "Name: restaurant_rating, Length: 813, dtype: float64"
      ]
     },
     "execution_count": 21,
     "metadata": {},
     "output_type": "execute_result"
    },
    {
     "data": {
      "image/png": "[encoded data removed]",
      "text/plain": [
       "<Figure size 432x288 with 1 Axes>"
      ]
     },
     "metadata": {
      "needs_background": "light"
     },
     "output_type": "display_data"
    }
   ],
   "source": [
    "%matplotlib inline\n",
    "df.groupby('zip_code')['restaurant_rating'].mean().plot.bar()\n",
    "df.groupby('zip_code')['restaurant_rating'].mean()"
   ]
  },
  {
   "cell_type": "markdown",
   "metadata": {},
   "source": [
    "## Histogram"
   ]
  },
  {
   "cell_type": "code",
   "execution_count": 22,
   "metadata": {},
   "outputs": [
    {
     "data": {
      "text/plain": [
       "<matplotlib.axes._subplots.AxesSubplot at 0x11ab28a58>"
      ]
     },
     "execution_count": 22,
     "metadata": {},
     "output_type": "execute_result"
    },
    {
     "data": {
      "image/png": "[encoded data removed]",
      "text/plain": [
       "<Figure size 432x288 with 1 Axes>"
      ]
     },
     "metadata": {
      "needs_background": "light"
     },
     "output_type": "display_data"
    }
   ],
   "source": [
    "# histogram\n",
    "df.restaurant_rating.hist(bins=3)"
   ]
  },
  {
   "cell_type": "markdown",
   "metadata": {},
   "source": [
    "As we can see, most of the ratings fall between 4 and 5 stars"
   ]
  },
  {
   "cell_type": "markdown",
   "metadata": {},
   "source": [
    "## Boxplots"
   ]
  },
  {
   "cell_type": "code",
   "execution_count": 23,
   "metadata": {},
   "outputs": [
    {
     "data": {
      "text/plain": [
       "<matplotlib.axes._subplots.AxesSubplot at 0x11b82ad68>"
      ]
     },
     "execution_count": 23,
     "metadata": {},
     "output_type": "execute_result"
    },
    {
     "data": {
      "image/png": "[encoded data removed]",
      "text/plain": [
       "<Figure size 432x288 with 1 Axes>"
      ]
     },
     "metadata": {
      "needs_background": "light"
     },
     "output_type": "display_data"
    }
   ],
   "source": [
    " df.boxplot(column=['restaurant_rating'])"
   ]
  },
  {
   "cell_type": "code",
   "execution_count": 24,
   "metadata": {},
   "outputs": [
    {
     "data": {
      "text/plain": [
       "<matplotlib.axes._subplots.AxesSubplot at 0x11b7e0a20>"
      ]
     },
     "execution_count": 24,
     "metadata": {},
     "output_type": "execute_result"
    },
    {
     "data": {
      "image/png": "[encoded data removed]",
      "text/plain": [
       "<Figure size 432x288 with 1 Axes>"
      ]
     },
     "metadata": {
      "needs_background": "light"
     },
     "output_type": "display_data"
    }
   ],
   "source": [
    " df.boxplot(column=['zip_code_income'])"
   ]
  },
  {
   "cell_type": "markdown",
   "metadata": {},
   "source": [
    "The restaurant data seems to have a few outliers, and it is interesting to note that all of the outliers are on the lower end. This is the opposite of the income data, where all ofthe outliers are on the higher end."
   ]
  },
  {
   "cell_type": "markdown",
   "metadata": {},
   "source": [
    "## Scatter Plots"
   ]
  },
  {
   "cell_type": "code",
   "execution_count": 25,
   "metadata": {},
   "outputs": [
    {
     "data": {
      "text/plain": [
       "<matplotlib.collections.PathCollection at 0x11b85fb00>"
      ]
     },
     "execution_count": 25,
     "metadata": {},
     "output_type": "execute_result"
    },
    {
     "data": {
      "image/png": "[encoded data removed]",
      "text/plain": [
       "<Figure size 432x288 with 1 Axes>"
      ]
     },
     "metadata": {
      "needs_background": "light"
     },
     "output_type": "display_data"
    }
   ],
   "source": [
    "import matplotlib.pyplot as plt\n",
    "\n",
    "series = df.groupby('zip_code_income')['restaurant_rating'].mean()\n",
    "import pylab\n",
    "pylab.scatter(series.index, series)"
   ]
  },
  {
   "cell_type": "markdown",
   "metadata": {},
   "source": [
    "Although there is not a clear correlation we can make with the data, we can at least notice a few trends. While restaurants that are in the lower income range are all over the place, the restaurants in the higher income areas tend to have a more stable rating."
   ]
  },
  {
   "cell_type": "code",
   "execution_count": 26,
   "metadata": {},
   "outputs": [
    {
     "data": {
      "text/plain": [
       "<matplotlib.collections.PathCollection at 0x11b97ed30>"
      ]
     },
     "execution_count": 26,
     "metadata": {},
     "output_type": "execute_result"
    },
    {
     "data": {
      "image/png": "[encoded data removed]",
      "text/plain": [
       "<Figure size 432x288 with 1 Axes>"
      ]
     },
     "metadata": {
      "needs_background": "light"
     },
     "output_type": "display_data"
    }
   ],
   "source": [
    "series = df.groupby('avg_sentiment_subjectivity')['restaurant_rating'].mean()\n",
    "pylab.scatter(series.index, series)"
   ]
  },
  {
   "cell_type": "markdown",
   "metadata": {},
   "source": [
    "It also seems, from the above data, at least, that the reviews themselves are not a good indicator for whether the rating of the restaurant itself will be good as well. One would think that a restaurant with more favorable reviews would result in a higher average rating. "
   ]
  },
  {
   "cell_type": "code",
   "execution_count": null,
   "metadata": {},
   "outputs": [],
   "source": [
    "df.plot.scatter(x='zip_code_income',y='avg_sentiment_subjectivity')\n",
    "# pylab.scatter(series.index, series)"
   ]
  },
  {
   "cell_type": "markdown",
   "metadata": {},
   "source": [
    "Similar to the comparison with rating and the review sentiment, we see that in areas with a lower median income, the reviews tend to be more wide ranging, with sentiment ranging from -0.6 all the way to 0.8 in areas with a median income of $20,000, while in wealthier areas, the reviews tend to be much more consolidated. "
   ]
  },
  {
   "cell_type": "markdown",
   "metadata": {},
   "source": [
    "## Conclusion"
   ]
  },
  {
   "cell_type": "markdown",
   "metadata": {},
   "source": [
    "Although we didn't find any clear positive or negative correlation between some of the datapoint as we were expecting, we still found some interesting trends in the data. The most ineresting insighty we foiund was that the sentiment of the ratijngs themselves don't necessarily correspond to the ratings. That is, the number of stars someone gives a restaurant is not a clear indicator of how well they will review the restaurant, which makes sense. People may use the same words to describe a similar experience, but their overall sentiment may be very different,as these things are influenced by many other factors."
   ]
  },
  {
   "cell_type": "markdown",
   "metadata": {},
   "source": [
    "Another trend we indentified was that ratings in areas with a lower median income area tended to be all over the place, while ratings from areas with a higher median income, both in the actual rating and the sentiments of the reviews, tended to be significantly more stable."
   ]
  },
  {
   "cell_type": "markdown",
   "metadata": {},
   "source": [
    "## Exporting Data"
   ]
  },
  {
   "cell_type": "markdown",
   "metadata": {},
   "source": [
    "The data frame we created will be used in our ML portion of the project. Let's export it so we can use it in the notebook where we'll be exploring different ML techniques we can use on our data."
   ]
  },
  {
   "cell_type": "code",
   "execution_count": null,
   "metadata": {},
   "outputs": [],
   "source": [
    "df.to_csv('data.csv', index=False)"
   ]
  }
 ],
 "metadata": {
  "kernelspec": {
   "display_name": "Python 3",
   "language": "python",
   "name": "python3"
  },
  "language_info": {
   "codemirror_mode": {
    "name": "ipython",
    "version": 3
   },
   "file_extension": ".py",
   "mimetype": "text/x-python",
   "name": "python",
   "nbconvert_exporter": "python",
   "pygments_lexer": "ipython3",
   "version": "3.7.3"
  }
 },
 "nbformat": 4,
 "nbformat_minor": 2
}
